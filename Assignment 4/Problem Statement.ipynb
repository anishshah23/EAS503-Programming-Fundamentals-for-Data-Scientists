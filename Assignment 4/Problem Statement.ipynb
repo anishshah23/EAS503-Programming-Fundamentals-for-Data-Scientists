{
 "cells": [
  {
   "cell_type": "markdown",
   "metadata": {},
   "source": [
    "## EAS 503 Homework 4 Submission\n",
    "Name - Anish Chandravadan Shah\n",
    "\n",
    "**Make sure that you rename the notebook file to *replacewithubitname*_eas503_hw3.ipynb**\n",
    "\n",
    "\n",
    "### Submission Details \n",
    "* **Due Date** - November 28, 2017 by 11.59 PM PST. All assignments have to be submitted using UBLearns.\n",
    "* **Number of Problems** - 1 \n",
    "* **Maximum points** - 50\n",
    "* **Collaboration policy**\n",
    " - Every student has to submit individual homeworks\n",
    " - Any collaboration, in the form of discussion, with other members of the class is permitted, as long as the names of the collaborating members are explicitly stated on top of the submitted homework.\n",
    " - Any overlap with another submission or material from Internet will be awarded an F.\n",
    "* **Late submission policy** - _No late submissions allowed_\n",
    "* **Submission Format** - Enter code for each problem in the appropriate cell below. You may use multiple cells for a single problem to improve readability."
   ]
  },
  {
   "cell_type": "markdown",
   "metadata": {},
   "source": [
    "### Problem 1 - Chicago Crime Dataset (50 points)\n",
    "\n",
    "Recall the Chicago Crime Data that was used in HW3. In this HW you are provided with 3 data files namely `chicago_crime_data_1.csv`, `chicago_crime_data_2.csv` and `primary_type_id.csv`.  The `chicago_crime_data_1.csv` contains data pertaing to the details of the crime and the `chicago_crime_data_2.csv` has information about the location and type. Both the datasets have the Crime ID as the primary indicator. \n",
    "\n",
    "The `primary_type_id.csv` contains the mapping between the primary crime type to their corresponding ID.\n",
    "\n",
    "Using pymysql import the chicago crime data. Check if the data format are correct. In this problem, you will be asked to create a single sql query that will result in the desired output. Wherever required, provide the algebraic expressions and expression trees.\n",
    "\n",
    "1. What is the average crime rate in each year? (Query)\n",
    "\n",
    "2. Subset the list of crimes that occured at SIDEWALK and an arrest has been made. (Query, algebraic expression and expression tree)\n",
    "\n",
    "3. In the resulting dataset, identify the crime type that resulted in most crimes per each district. (Query)\n",
    "\n",
    "4. List the crimes with FBI code = 26 and domestic? (Query, algebraic expression and expression tree) \n",
    "\n",
    "5. What is the increase in the number of crimes involving thefts (primary crime type) from 2016 to 2017? (Query)\n",
    "\n",
    "6. What are the 3 most common types of crimes in `001XX N PARKSIDE AVE`? Provide the corresponding crime counts for these crime types. (Query)\n",
    "\n",
    "7. Average days between the crime indcident date and last updated date. (Query)\n",
    "\n",
    "8. List the crimes that were committed on `4/30/2016` and updated on the same day. (Query, algebraic expression, expression tree)\n",
    "\n",
    "9. Subset the list of crimes in 2016 that were domestic and occured on a `STREET` and an arrest was made. (Query, algebraic expression, expression tree)\n",
    "\n",
    "10. Are there any crimes that involved `Telephone threats` that occured in Disctric `10` and FBI code `30`? (Query, algebraic expression, expression tree)\n",
    "\n",
    "\n",
    "Submit the SQL query as a .txt file. The algebraic expressions and expression tree can hand written and submitted through UBLearns as a single PDF file."
   ]
  },
  {
   "cell_type": "code",
   "execution_count": null,
   "metadata": {},
   "outputs": [],
   "source": []
  },
  {
   "cell_type": "code",
   "execution_count": null,
   "metadata": {
    "collapsed": true
   },
   "outputs": [],
   "source": []
  }
 ],
 "metadata": {
  "kernelspec": {
   "display_name": "Python 3",
   "language": "python",
   "name": "python3"
  },
  "language_info": {
   "codemirror_mode": {
    "name": "ipython",
    "version": 3
   },
   "file_extension": ".py",
   "mimetype": "text/x-python",
   "name": "python",
   "nbconvert_exporter": "python",
   "pygments_lexer": "ipython3",
   "version": "3.6.2"
  }
 },
 "nbformat": 4,
 "nbformat_minor": 2
}
